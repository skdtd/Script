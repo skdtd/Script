{
 "cells": [
  {
   "cell_type": "code",
   "execution_count": 6,
   "source": [
    "import math\n",
    "\n",
    "b = 100000 #本金\n",
    "q = 60 #\n",
    "n = 3\n",
    "\n",
    "y = n * 0.01 / 12\n",
    "x = math.pow(1 + y, q)\n",
    "g = (b * y * x) / (x - 1)\n",
    "print('月供: ' + str(g))\n",
    "print('总额: ' + str(g * q))"
   ],
   "outputs": [
    {
     "output_type": "stream",
     "name": "stdout",
     "text": [
      "月供: 1796.8690664063486\n",
      "总额: 107812.14398438092\n"
     ]
    }
   ],
   "metadata": {}
  },
  {
   "cell_type": "code",
   "execution_count": 67,
   "source": [
    "import math\n",
    "\n",
    "b = 100000\n",
    "z = b + 17812\n",
    "q = 60\n",
    "\n",
    "g = z / q\n",
    "def getY(l, r):\n",
    "    if r - l <= 0.0001:\n",
    "        return l, r\n",
    "    nt = (l + r) / 2\n",
    "    yt = nt * 0.01 / 12\n",
    "    x = math.pow(1 + yt, q)\n",
    "    gt = (b * yt * x) / (x - 1)\n",
    "\n",
    "    if g < gt:\n",
    "        return getY(l, nt)\n",
    "    elif g > gt:\n",
    "        return getY(nt, r)\n",
    "    else:\n",
    "        return nt, nt\n",
    "\n",
    "\n",
    "result = getY(0, 60)\n",
    "print('月利率: %.3f' % result[0])"
   ],
   "outputs": [
    {
     "output_type": "stream",
     "name": "stdout",
     "text": [
      "月利率: 30.946\n"
     ]
    }
   ],
   "metadata": {}
  },
  {
   "cell_type": "code",
   "execution_count": 56,
   "source": [
    "b = 170000 #本金\n",
    "zq = 12 #总期数\n",
    "q = 1 #还款间隔\n",
    "n = 7 #年利率\n",
    "\n",
    "n = n * 0.01\n",
    "zl = 0\n",
    "bs = b / zq * q\n",
    "count = 0.01\n",
    "print('每期还款本金: %.3f' % bs)\n",
    "while True:\n",
    "    count = count + 1\n",
    "    ql = b * (n * q / 12)\n",
    "    b = b - bs\n",
    "    zl = zl + ql\n",
    "    if b < 0:\n",
    "        b = 0\n",
    "    print('第%d期利息为: %.3f, 剩余本金为: %.3f' % (count, ql, b))\n",
    "    if b <= 0:\n",
    "        print('总利息为: %.3f' % zl)\n",
    "        break\n"
   ],
   "outputs": [
    {
     "output_type": "stream",
     "name": "stdout",
     "text": [
      "每期还款本金: 200000.000\n",
      "第1期利息为: 14000.000, 剩余本金为: 0.000\n",
      "总利息为: 14000.000\n"
     ]
    }
   ],
   "metadata": {}
  },
  {
   "cell_type": "code",
   "execution_count": null,
   "source": [],
   "outputs": [],
   "metadata": {}
  }
 ],
 "metadata": {
  "kernelspec": {
   "name": "python3",
   "display_name": "Python 3.9.7 64-bit ('venv': virtualenv)"
  },
  "language_info": {
   "codemirror_mode": {
    "name": "ipython",
    "version": 3
   },
   "file_extension": ".py",
   "mimetype": "text/x-python",
   "name": "python",
   "nbconvert_exporter": "python",
   "pygments_lexer": "ipython3",
   "version": "3.9.7"
  },
  "toc": {
   "base_numbering": 1,
   "nav_menu": {},
   "number_sections": true,
   "sideBar": true,
   "skip_h1_title": false,
   "title_cell": "Table of Contents",
   "title_sidebar": "Contents",
   "toc_cell": false,
   "toc_position": {},
   "toc_section_display": true,
   "toc_window_display": false
  },
  "interpreter": {
   "hash": "fff08d4e56bb34c89b52db6e996f36901b413badbd861459f86ce215938b389f"
  }
 },
 "nbformat": 4,
 "nbformat_minor": 4
}