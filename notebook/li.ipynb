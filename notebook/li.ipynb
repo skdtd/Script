{
 "cells": [
  {
   "cell_type": "code",
   "execution_count": 3,
   "metadata": {},
   "outputs": [
    {
     "name": "stdout",
     "output_type": "stream",
     "text": [
      "月供: 2908.120963065292\n",
      "总额: 104692.35467035051\n"
     ]
    }
   ],
   "source": [
    "import math\n",
    "\n",
    "b = 100000 #本金\n",
    "q = 36 #\n",
    "n = 3\n",
    "\n",
    "y = n * 0.01 / 12\n",
    "x = math.pow(1 + y, q)\n",
    "g = (b * y * x) / (x - 1)\n",
    "print('月供: ' + str(g))\n",
    "print('总额: ' + str(g * q))"
   ]
  },
  {
   "cell_type": "code",
   "execution_count": 4,
   "metadata": {},
   "outputs": [
    {
     "name": "stdout",
     "output_type": "stream",
     "text": [
      "月利率: 10.972\n"
     ]
    }
   ],
   "source": [
    "import math\n",
    "\n",
    "b = 100000\n",
    "z = b + 17812\n",
    "q = 36\n",
    "\n",
    "g = z / q\n",
    "def getY(l, r):\n",
    "    if r - l <= 0.0001:\n",
    "        return l, r\n",
    "    nt = (l + r) / 2\n",
    "    yt = nt * 0.01 / 12\n",
    "    x = math.pow(1 + yt, q)\n",
    "    gt = (b * yt * x) / (x - 1)\n",
    "\n",
    "    if g < gt:\n",
    "        return getY(l, nt)\n",
    "    elif g > gt:\n",
    "        return getY(nt, r)\n",
    "    else:\n",
    "        return nt, nt\n",
    "\n",
    "\n",
    "result = getY(0, 60)\n",
    "print('月利率: %.3f' % result[0])"
   ]
  },
  {
   "cell_type": "code",
   "execution_count": 16,
   "metadata": {},
   "outputs": [
    {
     "name": "stdout",
     "output_type": "stream",
     "text": [
      "每期还款本金: 20000.000\n",
      "第1期利息为: 15000.000, 剩余本金为: 700000.000\n",
      "第2期利息为: 14583.333, 剩余本金为: 680000.000\n",
      "第3期利息为: 14166.667, 剩余本金为: 660000.000\n",
      "第4期利息为: 13750.000, 剩余本金为: 640000.000\n",
      "第5期利息为: 13333.333, 剩余本金为: 620000.000\n",
      "第6期利息为: 12916.667, 剩余本金为: 600000.000\n",
      "第7期利息为: 12500.000, 剩余本金为: 580000.000\n",
      "第8期利息为: 12083.333, 剩余本金为: 560000.000\n",
      "第9期利息为: 11666.667, 剩余本金为: 540000.000\n",
      "第10期利息为: 11250.000, 剩余本金为: 520000.000\n",
      "第11期利息为: 10833.333, 剩余本金为: 500000.000\n",
      "第12期利息为: 10416.667, 剩余本金为: 480000.000\n",
      "第13期利息为: 10000.000, 剩余本金为: 460000.000\n",
      "第14期利息为: 9583.333, 剩余本金为: 440000.000\n",
      "第15期利息为: 9166.667, 剩余本金为: 420000.000\n",
      "第16期利息为: 8750.000, 剩余本金为: 400000.000\n",
      "第17期利息为: 8333.333, 剩余本金为: 380000.000\n",
      "第18期利息为: 7916.667, 剩余本金为: 360000.000\n",
      "第19期利息为: 7500.000, 剩余本金为: 340000.000\n",
      "第20期利息为: 7083.333, 剩余本金为: 320000.000\n",
      "第21期利息为: 6666.667, 剩余本金为: 300000.000\n",
      "第22期利息为: 6250.000, 剩余本金为: 280000.000\n",
      "第23期利息为: 5833.333, 剩余本金为: 260000.000\n",
      "第24期利息为: 5416.667, 剩余本金为: 240000.000\n",
      "第25期利息为: 5000.000, 剩余本金为: 220000.000\n",
      "第26期利息为: 4583.333, 剩余本金为: 200000.000\n",
      "第27期利息为: 4166.667, 剩余本金为: 180000.000\n",
      "第28期利息为: 3750.000, 剩余本金为: 160000.000\n",
      "第29期利息为: 3333.333, 剩余本金为: 140000.000\n",
      "第30期利息为: 2916.667, 剩余本金为: 120000.000\n",
      "第31期利息为: 2500.000, 剩余本金为: 100000.000\n",
      "第32期利息为: 2083.333, 剩余本金为: 80000.000\n",
      "第33期利息为: 1666.667, 剩余本金为: 60000.000\n",
      "第34期利息为: 1250.000, 剩余本金为: 40000.000\n",
      "第35期利息为: 833.333, 剩余本金为: 20000.000\n",
      "第36期利息为: 416.667, 剩余本金为: 0.000\n",
      "总利息为: 277500.000\n"
     ]
    }
   ],
   "source": [
    "b = 720000 #本金\n",
    "zq = 36 #总期数\n",
    "q = 1 #还款间隔\n",
    "n = 25 #年利率\n",
    "\n",
    "n = n * 0.01\n",
    "zl = 0\n",
    "bs = b / zq * q\n",
    "count = 0.01\n",
    "print('每期还款本金: %.3f' % bs)\n",
    "while True:\n",
    "    count = count + 1\n",
    "    ql = b * (n * q / 12)\n",
    "    b = b - bs\n",
    "    zl = zl + ql\n",
    "    if b < 0:\n",
    "        b = 0\n",
    "    print('第%d期利息为: %.3f, 剩余本金为: %.3f' % (count, ql, b))\n",
    "    if b <= 0:\n",
    "        print('总利息为: %.3f' % zl)\n",
    "        break\n"
   ]
  },
  {
   "cell_type": "code",
   "execution_count": null,
   "metadata": {},
   "outputs": [],
   "source": []
  }
 ],
 "metadata": {
  "interpreter": {
   "hash": "fff08d4e56bb34c89b52db6e996f36901b413badbd861459f86ce215938b389f"
  },
  "kernelspec": {
   "display_name": "Python 3.9.7 64-bit ('venv': virtualenv)",
   "name": "python3"
  },
  "language_info": {
   "codemirror_mode": {
    "name": "ipython",
    "version": 3
   },
   "file_extension": ".py",
   "mimetype": "text/x-python",
   "name": "python",
   "nbconvert_exporter": "python",
   "pygments_lexer": "ipython3",
   "version": "3.10.5"
  },
  "toc": {
   "base_numbering": 1,
   "nav_menu": {},
   "number_sections": true,
   "sideBar": true,
   "skip_h1_title": false,
   "title_cell": "Table of Contents",
   "title_sidebar": "Contents",
   "toc_cell": false,
   "toc_position": {},
   "toc_section_display": true,
   "toc_window_display": false
  }
 },
 "nbformat": 4,
 "nbformat_minor": 4
}
